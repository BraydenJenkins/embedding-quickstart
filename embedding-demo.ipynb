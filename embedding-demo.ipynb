{
 "cells": [
  {
   "cell_type": "code",
   "execution_count": 29,
   "metadata": {},
   "outputs": [],
   "source": [
    "import random"
   ]
  },
  {
   "cell_type": "code",
   "execution_count": 62,
   "metadata": {},
   "outputs": [
    {
     "data": {
      "text/plain": [
       "True"
      ]
     },
     "execution_count": 62,
     "metadata": {},
     "output_type": "execute_result"
    }
   ],
   "source": [
    "# load_dotenv() will load the environment variables from .env file\n",
    "# this is where we store our API keys and other secrets\n",
    "\n",
    "from dotenv import load_dotenv\n",
    "\n",
    "load_dotenv()"
   ]
  },
  {
   "cell_type": "code",
   "execution_count": 4,
   "metadata": {},
   "outputs": [],
   "source": [
    "# tiktoken helps us determine how many tokens we are using\n",
    "\n",
    "import tiktoken\n",
    "\n",
    "tokenizer = tiktoken.get_encoding(\"cl100k_base\")"
   ]
  },
  {
   "cell_type": "code",
   "execution_count": 16,
   "metadata": {},
   "outputs": [],
   "source": [
    "# helper functions for extracting text from pdfs and splitting into chunks\n",
    "\n",
    "from pdfminer.high_level import extract_pages\n",
    "from pdfminer.layout import LTTextContainer, LTChar\n",
    "\n",
    "def extract_pdf_text(file_path, token_limit = -1):\n",
    "    extracted_text = ''\n",
    "\n",
    "    for page_layout in extract_pages(file_path):\n",
    "        for element in page_layout:\n",
    "            if isinstance(element, LTTextContainer):\n",
    "                for text_line in element:\n",
    "                    try:\n",
    "                        for character in text_line:\n",
    "                            if isinstance(character, LTChar):\n",
    "                                extracted_text += character.get_text()\n",
    "                    except:\n",
    "                        pass\n",
    "            # at each element, check token count\n",
    "            token_count = len(tokenizer.encode(extracted_text))\n",
    "            if token_count > token_limit and token_limit != -1:\n",
    "                return extracted_text\n",
    "    return extracted_text\n",
    "\n",
    "def create_text_chunks(text, chunk_size):\n",
    "    chunks = []\n",
    "    chunk = \"\"\n",
    "    # splitting on periods in an attempt to keep sentences together in chunks\n",
    "    for sentence in text.split('.'):\n",
    "        if len(tokenizer.encode(chunk)) + len(tokenizer.encode(sentence)) < chunk_size:\n",
    "            chunk += sentence + '.'\n",
    "        else:\n",
    "            chunks.append(chunk)\n",
    "            chunk = sentence + '.'\n",
    "    chunks.append(chunk)\n",
    "    return chunks"
   ]
  },
  {
   "cell_type": "code",
   "execution_count": 13,
   "metadata": {},
   "outputs": [
    {
     "name": "stdout",
     "output_type": "stream",
     "text": [
      "THE CONSTITUTION of the United States NATIONAL CONSTITUTION CENTER We the People of the United States, in Order to form a more perfect Union, establish Justice, insure domestic Tranquility, provide for the common defence, promote the general Welfare, and secure the Blessings of Liberty to ourselves and our Posterity, do ordain and establish this Constitution for the United States of America Article.  I. SECTION. 1 All legislative Powers herein granted shall be vested in a Congress of the United States, which shall consist of a Sen- ate and House of Representatives. SECTION. 2 The House of Representatives shall be composed of Mem- bers chosen every second Year by the People of the several States, and the Electors in each State shall have the Qualifi- cations requisite for Electors of the most numerous Branch of the State Legislature. No Person shall be a Representative who shall not have attained to the Age of twenty five Years, and been seven Years a Citizen of the United States, and w...\n"
     ]
    }
   ],
   "source": [
    "pdf = \"constitution.pdf\"\n",
    "extracted_text = extract_pdf_text(pdf)\n",
    "print(extracted_text[:1000] + \"...\")"
   ]
  },
  {
   "cell_type": "code",
   "execution_count": 42,
   "metadata": {},
   "outputs": [
    {
     "name": "stdout",
     "output_type": "stream",
     "text": [
      "Total chunks: 53\n",
      " But in choos- ing the President, the votes shall be taken by states, the representation from each state having one vote; a quorum for this purpose shall consist of a member or members from two-thirds of the states, and a majority of all the states shall be necessary to a choice. [And if the House of Representa- tives shall not choose a President whenever the right of choice shall devolve upon them, before the fourth day of March next following, then the Vice-President shall act as President, as in case of the death or other constitutional disability of the President.-]* The person having the greatest number of votes as Vice-President, shall be the Vice-Presi- dent, if such number be a majority of the whole number of Electors appointed, and if no person have a majority, then from the two highest numbers on the list, the Senate shall choose the Vice-President; a quorum for the purpose shall consist of two-thirds of the whole number of Senators, and a majority of the whole number shall be necessary to a choice. But no person constitutionally ineligible to the office of President shall be eligible to that of Vice-President of the United States.\n"
     ]
    }
   ],
   "source": [
    "extracted_text_chunks = create_text_chunks(extracted_text, chunk_size=250)\n",
    "print(\"Total chunks: \" + str(len(extracted_text_chunks)))\n",
    "print(extracted_text_chunks[random.randint(0, len(extracted_text_chunks))])"
   ]
  },
  {
   "cell_type": "code",
   "execution_count": 44,
   "metadata": {},
   "outputs": [
    {
     "data": {
      "text/html": [
       "<div>\n",
       "<style scoped>\n",
       "    .dataframe tbody tr th:only-of-type {\n",
       "        vertical-align: middle;\n",
       "    }\n",
       "\n",
       "    .dataframe tbody tr th {\n",
       "        vertical-align: top;\n",
       "    }\n",
       "\n",
       "    .dataframe thead th {\n",
       "        text-align: right;\n",
       "    }\n",
       "</style>\n",
       "<table border=\"1\" class=\"dataframe\">\n",
       "  <thead>\n",
       "    <tr style=\"text-align: right;\">\n",
       "      <th></th>\n",
       "      <th>text</th>\n",
       "    </tr>\n",
       "  </thead>\n",
       "  <tbody>\n",
       "    <tr>\n",
       "      <th>0</th>\n",
       "      <td>THE CONSTITUTION of the United States NATIONAL...</td>\n",
       "    </tr>\n",
       "    <tr>\n",
       "      <th>1</th>\n",
       "      <td>[Representatives and direct Taxes shall be ap...</td>\n",
       "    </tr>\n",
       "    <tr>\n",
       "      <th>2</th>\n",
       "      <td>The House of Representatives shall chuse thei...</td>\n",
       "    </tr>\n",
       "    <tr>\n",
       "      <th>3</th>\n",
       "      <td>]* C O N S T I T U T I O N O F T H E U N I T E...</td>\n",
       "    </tr>\n",
       "    <tr>\n",
       "      <th>4</th>\n",
       "      <td>No Senator or Representative shall, during th...</td>\n",
       "    </tr>\n",
       "  </tbody>\n",
       "</table>\n",
       "</div>"
      ],
      "text/plain": [
       "                                                text\n",
       "0  THE CONSTITUTION of the United States NATIONAL...\n",
       "1   [Representatives and direct Taxes shall be ap...\n",
       "2   The House of Representatives shall chuse thei...\n",
       "3  ]* C O N S T I T U T I O N O F T H E U N I T E...\n",
       "4   No Senator or Representative shall, during th..."
      ]
     },
     "execution_count": 44,
     "metadata": {},
     "output_type": "execute_result"
    }
   ],
   "source": [
    "# now, we will put all of these chunks into a dataframe for viewing and analysis\n",
    "import pandas as pd\n",
    "df = pd.DataFrame(extracted_text_chunks, columns=['text'])\n",
    "df.head()"
   ]
  },
  {
   "cell_type": "code",
   "execution_count": 46,
   "metadata": {},
   "outputs": [
    {
     "data": {
      "text/html": [
       "<div>\n",
       "<style scoped>\n",
       "    .dataframe tbody tr th:only-of-type {\n",
       "        vertical-align: middle;\n",
       "    }\n",
       "\n",
       "    .dataframe tbody tr th {\n",
       "        vertical-align: top;\n",
       "    }\n",
       "\n",
       "    .dataframe thead th {\n",
       "        text-align: right;\n",
       "    }\n",
       "</style>\n",
       "<table border=\"1\" class=\"dataframe\">\n",
       "  <thead>\n",
       "    <tr style=\"text-align: right;\">\n",
       "      <th></th>\n",
       "      <th>text</th>\n",
       "      <th>n_tokens</th>\n",
       "    </tr>\n",
       "  </thead>\n",
       "  <tbody>\n",
       "    <tr>\n",
       "      <th>0</th>\n",
       "      <td>THE CONSTITUTION of the United States NATIONAL...</td>\n",
       "      <td>224</td>\n",
       "    </tr>\n",
       "    <tr>\n",
       "      <th>1</th>\n",
       "      <td>[Representatives and direct Taxes shall be ap...</td>\n",
       "      <td>230</td>\n",
       "    </tr>\n",
       "    <tr>\n",
       "      <th>2</th>\n",
       "      <td>The House of Representatives shall chuse thei...</td>\n",
       "      <td>205</td>\n",
       "    </tr>\n",
       "    <tr>\n",
       "      <th>3</th>\n",
       "      <td>]* C O N S T I T U T I O N O F T H E U N I T E...</td>\n",
       "      <td>249</td>\n",
       "    </tr>\n",
       "    <tr>\n",
       "      <th>4</th>\n",
       "      <td>No Senator or Representative shall, during th...</td>\n",
       "      <td>228</td>\n",
       "    </tr>\n",
       "  </tbody>\n",
       "</table>\n",
       "</div>"
      ],
      "text/plain": [
       "                                                text  n_tokens\n",
       "0  THE CONSTITUTION of the United States NATIONAL...       224\n",
       "1   [Representatives and direct Taxes shall be ap...       230\n",
       "2   The House of Representatives shall chuse thei...       205\n",
       "3  ]* C O N S T I T U T I O N O F T H E U N I T E...       249\n",
       "4   No Senator or Representative shall, during th...       228"
      ]
     },
     "execution_count": 46,
     "metadata": {},
     "output_type": "execute_result"
    }
   ],
   "source": [
    "# Tokenize the text and save the number of tokens to a new column\n",
    "df['n_tokens'] = df.text.apply(lambda x: len(tokenizer.encode(x)))\n",
    "df.head()"
   ]
  },
  {
   "cell_type": "code",
   "execution_count": 52,
   "metadata": {},
   "outputs": [
    {
     "name": "stdout",
     "output_type": "stream",
     "text": [
      "Sum of all tokens: 11342\n",
      "Total cost to generate embeddings: $0.0011\n"
     ]
    }
   ],
   "source": [
    "# print sum of all tokens\n",
    "total_tokens = df.n_tokens.sum()\n",
    "print(\"Sum of all tokens: \" + str(total_tokens))\n",
    "dollars_per_thousand_tokens = 0.0001\n",
    "total_cost = total_tokens/1000 * dollars_per_thousand_tokens\n",
    "total_cost = round(total_cost, 4)\n",
    "print(\"Total cost to generate embeddings: $\" + str(total_cost))"
   ]
  },
  {
   "cell_type": "code",
   "execution_count": 68,
   "metadata": {},
   "outputs": [],
   "source": [
    "# now we will use the OpenAI API to generate embeddings for each chunk of text\n",
    "# we will save these embeddings to a new column in the dataframe\n",
    "# the dataframe will be saved to a csv file for later use\n",
    "\n",
    "from openai import OpenAI\n",
    "import os\n",
    "from dotenv import dotenv_values\n",
    "\n",
    "config = dotenv_values(\".env\")\n",
    "\n",
    "client = OpenAI(\n",
    "  api_key=config[\"OPENAI_API_KEY\"],\n",
    ")\n",
    "\n",
    "def get_embedding(text, model=\"text-embedding-ada-002\"):\n",
    "   text = text.replace(\"\\n\", \" \")\n",
    "   return client.embeddings.create(input = [text], model=model).data[0].embedding\n",
    "\n",
    "df['embedding'] = df.text.apply(lambda x: get_embedding(x, model='text-embedding-ada-002'))\n",
    "df.to_csv('output/constitution_embeddings.csv', index=False)\n",
    "df.head()"
   ]
  },
  {
   "cell_type": "code",
   "execution_count": 11,
   "metadata": {},
   "outputs": [
    {
     "data": {
      "text/html": [
       "<div>\n",
       "<style scoped>\n",
       "    .dataframe tbody tr th:only-of-type {\n",
       "        vertical-align: middle;\n",
       "    }\n",
       "\n",
       "    .dataframe tbody tr th {\n",
       "        vertical-align: top;\n",
       "    }\n",
       "\n",
       "    .dataframe thead th {\n",
       "        text-align: right;\n",
       "    }\n",
       "</style>\n",
       "<table border=\"1\" class=\"dataframe\">\n",
       "  <thead>\n",
       "    <tr style=\"text-align: right;\">\n",
       "      <th></th>\n",
       "      <th>text</th>\n",
       "      <th>n_tokens</th>\n",
       "      <th>embedding</th>\n",
       "    </tr>\n",
       "  </thead>\n",
       "  <tbody>\n",
       "    <tr>\n",
       "      <th>0</th>\n",
       "      <td>THE CONSTITUTION of the United States NATIONAL...</td>\n",
       "      <td>224</td>\n",
       "      <td>[-0.0059715150855481625, 5.742223220295273e-05...</td>\n",
       "    </tr>\n",
       "    <tr>\n",
       "      <th>1</th>\n",
       "      <td>[Representatives and direct Taxes shall be ap...</td>\n",
       "      <td>230</td>\n",
       "      <td>[-0.021560681983828545, 0.005383715499192476, ...</td>\n",
       "    </tr>\n",
       "    <tr>\n",
       "      <th>2</th>\n",
       "      <td>The House of Representatives shall chuse thei...</td>\n",
       "      <td>205</td>\n",
       "      <td>[-0.015850668773055077, -0.011499756015837193,...</td>\n",
       "    </tr>\n",
       "    <tr>\n",
       "      <th>3</th>\n",
       "      <td>]* C O N S T I T U T I O N O F T H E U N I T E...</td>\n",
       "      <td>249</td>\n",
       "      <td>[-0.01521310955286026, 0.004529268480837345, 0...</td>\n",
       "    </tr>\n",
       "    <tr>\n",
       "      <th>4</th>\n",
       "      <td>No Senator or Representative shall, during th...</td>\n",
       "      <td>228</td>\n",
       "      <td>[-0.014630777761340141, -0.01587194949388504, ...</td>\n",
       "    </tr>\n",
       "  </tbody>\n",
       "</table>\n",
       "</div>"
      ],
      "text/plain": [
       "                                                text  n_tokens  \\\n",
       "0  THE CONSTITUTION of the United States NATIONAL...       224   \n",
       "1   [Representatives and direct Taxes shall be ap...       230   \n",
       "2   The House of Representatives shall chuse thei...       205   \n",
       "3  ]* C O N S T I T U T I O N O F T H E U N I T E...       249   \n",
       "4   No Senator or Representative shall, during th...       228   \n",
       "\n",
       "                                           embedding  \n",
       "0  [-0.0059715150855481625, 5.742223220295273e-05...  \n",
       "1  [-0.021560681983828545, 0.005383715499192476, ...  \n",
       "2  [-0.015850668773055077, -0.011499756015837193,...  \n",
       "3  [-0.01521310955286026, 0.004529268480837345, 0...  \n",
       "4  [-0.014630777761340141, -0.01587194949388504, ...  "
      ]
     },
     "execution_count": 11,
     "metadata": {},
     "output_type": "execute_result"
    }
   ],
   "source": [
    "# now we will load the dataframe from the csv file, so if we need to restart the notebook,\n",
    "# we can just load the csv file instead of re-generating the embeddings\n",
    "\n",
    "import pandas as pd\n",
    "import numpy as np\n",
    "\n",
    "df = pd.read_csv('output/constitution_embeddings.csv')\n",
    "df['embedding'] = df.embedding.apply(eval).apply(np.array)\n",
    "df.head()"
   ]
  },
  {
   "cell_type": "code",
   "execution_count": 4,
   "metadata": {},
   "outputs": [],
   "source": [
    "from scipy import spatial\n",
    "from typing import List, Optional\n",
    "\n",
    "def distances_from_embeddings(\n",
    "    query_embedding: List[float],\n",
    "    embeddings: List[List[float]],\n",
    "    distance_metric=\"cosine\",\n",
    ") -> List[List]:\n",
    "    \"\"\"Return the distances between a query embedding and a list of embeddings.\"\"\"\n",
    "    distance_metrics = {\n",
    "        \"cosine\": spatial.distance.cosine,\n",
    "        \"L1\": spatial.distance.cityblock,\n",
    "        \"L2\": spatial.distance.euclidean,\n",
    "        \"Linf\": spatial.distance.chebyshev,\n",
    "    }\n",
    "    distances = [\n",
    "        distance_metrics[distance_metric](query_embedding, embedding)\n",
    "        for embedding in embeddings\n",
    "    ]\n",
    "    return distances\n",
    "\n",
    "def cosine_similarity(a, b):\n",
    "    return np.dot(a, b) / (np.linalg.norm(a) * np.linalg.norm(b))"
   ]
  },
  {
   "cell_type": "code",
   "execution_count": 9,
   "metadata": {},
   "outputs": [],
   "source": [
    "# at this point, we have embeddings that are ready to be uploaded into a vector database, \n",
    "# along with any metadata in the dataframe\n",
    "\n",
    "# for now, we will use cosine similarity locally to test the embeddings\n",
    "from openai import OpenAI\n",
    "import os\n",
    "from dotenv import dotenv_values\n",
    "\n",
    "config = dotenv_values(\".env\")\n",
    "\n",
    "client = OpenAI(\n",
    "  api_key=config[\"OPENAI_API_KEY\"],\n",
    ")\n",
    "\n",
    "def get_embedding(text, model=\"text-embedding-ada-002\"):\n",
    "   text = text.replace(\"\\n\", \" \")\n",
    "   return client.embeddings.create(input = [text], model=model).data[0].embedding\n",
    "\n",
    "query = \"taxes\"\n",
    "query_embedding = get_embedding(query)\n",
    "distances = distances_from_embeddings(query_embedding, df.embedding, distance_metric=\"cosine\")"
   ]
  },
  {
   "cell_type": "code",
   "execution_count": 15,
   "metadata": {},
   "outputs": [
    {
     "name": "stdout",
     "output_type": "stream",
     "text": [
      " The Congress shall have Power To lay and collect Taxes, Duties, Imposts and Excises, to pay the Debts and provide for the common Defence and general Welfare of the United States; but all Duties, Imposts and Excises shall be uniform throughout the United States; To borrow Money on the credit of the United States; To regulate Commerce with foreign Nations, and among the several States, and with the Indian Tribes; To establish an uniform Rule of Naturalization, and uni- form Laws on the subject of...\n",
      "Distance: 0.1893593888877414\n",
      "\n",
      " No Bill of Attainder or ex post facto Law shall be passed. [No Capitation, or other direct, Tax shall be laid, unless in Proportion to the Census or Enumeration herein before directed to be taken.]* No Tax or Duty shall be laid on Articles exported from any State No Preference shall be given by any Regulation of Com- merce or Revenue to the Ports of one State over those of another: nor shall Vessels bound to, or from, one State, be obliged to enter, clear, or pay Duties in another. No Money sha...\n",
      "Distance: 0.19345069658743042\n",
      "\n",
      " 10 No State shall enter into any Treaty, Alliance, or Confedera- tion; grant Letters of Marque and Reprisal; coin Money; emit Bills of Credit; make any Thing but gold and silver Coin a Tender in Payment of Debts; pass any Bill of At- tainder, ex post facto Law, or Law impairing the Obligation of Contracts, or grant any Title of Nobility. No State shall, without the Consent of the Congress, lay any Imposts or Duties on Imports or Exports, except what may be absolutely necessary for executing it’...\n",
      "Distance: 0.1995856680086222\n",
      "\n",
      " To exercise exclusive Legislation in all Cases whatsoever, over such District (not exceeding ten Miles square) as may, by Cession of particular States, and the Acceptance of Congress, become the Seat of the Government of the United States, and to exercise like Authority over all Places purchased by the Consent of the Legislature of the State in which the Same shall be, for the Erection of Forts, Maga- zines, Arsenals, dock-Yards and other needful Buildings; -And To make all Laws which shall be ...\n",
      "Distance: 0.2151868645152183\n",
      "\n",
      " [Representatives and direct Taxes shall be apportioned among the several States which may be included within this Union, according to their respective Numbers, which shall be determined by adding to the whole Number of free Persons, including those bound to Service for a Term of Years, and excluding Indians not taxed, three fifths of all other Persons.]* The actual Enumeration shall be made within three Years after the first Meeting of the Congress of the United States, and within every subsequ...\n",
      "Distance: 0.2180675427765928\n",
      "\n"
     ]
    }
   ],
   "source": [
    "query_df = pd.DataFrame(df.text)\n",
    "query_df['distance'] = distances\n",
    "query_df.sort_values(by=['distance'], inplace=True)\n",
    "\n",
    "for index, row in query_df.head(5).iterrows():\n",
    "    print(row['text'][:500] + \"...\")\n",
    "    print(\"Distance: \" + str(row['distance']))\n",
    "    print(\"\")"
   ]
  },
  {
   "cell_type": "code",
   "execution_count": 17,
   "metadata": {},
   "outputs": [],
   "source": [
    "# let's create a method to get the nearest matches for a query\n",
    "def get_nearest_matches(query, df, n_matches=5):\n",
    "    query_embedding = get_embedding(query)\n",
    "    distances = distances_from_embeddings(query_embedding, df.embedding, distance_metric=\"cosine\")\n",
    "    query_df = pd.DataFrame(df.text)\n",
    "    query_df['distance'] = distances\n",
    "    query_df.sort_values(by=['distance'], inplace=True)\n",
    "    return query_df.head(n_matches)"
   ]
  },
  {
   "cell_type": "code",
   "execution_count": 19,
   "metadata": {},
   "outputs": [
    {
     "name": "stdout",
     "output_type": "stream",
     "text": [
      "]* The President shall, at stated Times, receive for his Services, a Compensation, which shall neither be increased nor diminished during the Period for which he shall have been elected, and he shall not receive within that Period any other Emolument from the United States, or any of them. Before he enter on the Execution of his Office, he shall take the following Oath or Affirmation:- “I do solemnly swear (or affirm) that I will faithfully execute the Office of President of the United States, a...\n",
      "Distance: 0.1491908615091867\n",
      "\n",
      " The President shall be Commander in Chief of the Army and Navy of the United States, and of the Militia of the several States, when called into the actual Service of the United States; he may require the Opinion, in writing, of the principal Officer in each of the executive Departments, upon any Subject relating to the Duties of their respective Offices, and he shall have Power to grant Reprieves and Pardons for Offenses against the United States, except in Cases of Impeachment. He shall have P...\n",
      "Distance: 0.194338295528095\n",
      "\n",
      " SECTION 3 No person shall be a Senator or Representative in Con- gress, or elector of President and Vice President, or hold any office, civil or military, under the United States, or under any State, who, having previously taken an oath, as a member of Congress, or as an officer of the United States, or as a member of any State legislature, or as an executive or judicial officer of any State, to support the Constitution of the United States, shall have engaged in insurrection or rebellion again...\n",
      "Distance: 0.19488929405237243\n",
      "\n",
      ") The Electors shall meet in their respective states, and vote by ballot for President and Vice-President, one of whom, at least, shall not be an inhabitant of the same state with themselves; they shall name in their ballots the person voted for as President, and in distinct ballots the person voted for as Vice-President, and they shall make distinct lists of all persons voted for as President, and of all persons voted for as Vice-President, and of the number of votes for each, which lists they ...\n",
      "Distance: 0.19665807006251612\n",
      "\n",
      " C O N S T I T U T I O N O F T H E U N I T E D S T A T E S The Congress may determine the Time of chusing the Electors, and the Day on which they shall give their Votes; which Day shall be the same throughout the United States. No Person except a natural born Citizen, or a Citizen of the United States, at the time of the Adoption of this Constitution, shall be eligible to the Office of President; neither shall any person be eligible to that Office who shall not have attained to the Age of thirty...\n",
      "Distance: 0.19845779587465562\n",
      "\n"
     ]
    }
   ],
   "source": [
    "matches = get_nearest_matches(\"presidential oath\", df)\n",
    "for index, row in matches.iterrows():\n",
    "    print(row['text'][:500] + \"...\")\n",
    "    print(\"Distance: \" + str(row['distance']))\n",
    "    print(\"\")"
   ]
  },
  {
   "cell_type": "code",
   "execution_count": 22,
   "metadata": {},
   "outputs": [],
   "source": [
    "# upserting vectors into Pinecone\n",
    "import pinecone\n",
    "from dotenv import dotenv_values\n",
    "config = dotenv_values(\".env\")\n",
    "\n",
    "pinecone.init(\n",
    "    api_key=config[\"PINECONE_API_KEY\"],\n",
    "    environment=config[\"PINECONE_ENVIRONMENT\"]\n",
    ")\n",
    "\n",
    "index = pinecone.Index('openai-index')"
   ]
  },
  {
   "cell_type": "code",
   "execution_count": 30,
   "metadata": {},
   "outputs": [
    {
     "data": {
      "text/html": [
       "<div>\n",
       "<style scoped>\n",
       "    .dataframe tbody tr th:only-of-type {\n",
       "        vertical-align: middle;\n",
       "    }\n",
       "\n",
       "    .dataframe tbody tr th {\n",
       "        vertical-align: top;\n",
       "    }\n",
       "\n",
       "    .dataframe thead th {\n",
       "        text-align: right;\n",
       "    }\n",
       "</style>\n",
       "<table border=\"1\" class=\"dataframe\">\n",
       "  <thead>\n",
       "    <tr style=\"text-align: right;\">\n",
       "      <th></th>\n",
       "      <th>title</th>\n",
       "      <th>text</th>\n",
       "      <th>n_tokens</th>\n",
       "      <th>vector</th>\n",
       "    </tr>\n",
       "  </thead>\n",
       "  <tbody>\n",
       "    <tr>\n",
       "      <th>0</th>\n",
       "      <td>Combined Officer PME Handbook</td>\n",
       "      <td>eSchool of Graduate PME Officer Professional M...</td>\n",
       "      <td>500</td>\n",
       "      <td>[-0.0097800773, 0.0036683725, -0.0137623027000...</td>\n",
       "    </tr>\n",
       "    <tr>\n",
       "      <th>1</th>\n",
       "      <td>Combined Officer PME Handbook</td>\n",
       "      <td>.................................................</td>\n",
       "      <td>500</td>\n",
       "      <td>[0.009529138900000001, -0.0008782578000000001,...</td>\n",
       "    </tr>\n",
       "    <tr>\n",
       "      <th>2</th>\n",
       "      <td>Combined Officer PME Handbook</td>\n",
       "      <td>.................................................</td>\n",
       "      <td>496</td>\n",
       "      <td>[-0.0028723259, 0.0007146763, 0.0027650606, -0...</td>\n",
       "    </tr>\n",
       "    <tr>\n",
       "      <th>3</th>\n",
       "      <td>Combined Officer PME Handbook</td>\n",
       "      <td>14 Table 8. eSchool Technical (Hardware and S...</td>\n",
       "      <td>485</td>\n",
       "      <td>[-0.0053947526, 0.0010639088, -0.0172659121, -...</td>\n",
       "    </tr>\n",
       "    <tr>\n",
       "      <th>4</th>\n",
       "      <td>Combined Officer PME Handbook</td>\n",
       "      <td>mil/eSchool/  This Handbook provides details o...</td>\n",
       "      <td>490</td>\n",
       "      <td>[-0.0102074854, 0.0018237374, -0.0229328163000...</td>\n",
       "    </tr>\n",
       "  </tbody>\n",
       "</table>\n",
       "</div>"
      ],
      "text/plain": [
       "                           title  \\\n",
       "0  Combined Officer PME Handbook   \n",
       "1  Combined Officer PME Handbook   \n",
       "2  Combined Officer PME Handbook   \n",
       "3  Combined Officer PME Handbook   \n",
       "4  Combined Officer PME Handbook   \n",
       "\n",
       "                                                text  n_tokens  \\\n",
       "0  eSchool of Graduate PME Officer Professional M...       500   \n",
       "1  .................................................       500   \n",
       "2  .................................................       496   \n",
       "3   14 Table 8. eSchool Technical (Hardware and S...       485   \n",
       "4  mil/eSchool/  This Handbook provides details o...       490   \n",
       "\n",
       "                                              vector  \n",
       "0  [-0.0097800773, 0.0036683725, -0.0137623027000...  \n",
       "1  [0.009529138900000001, -0.0008782578000000001,...  \n",
       "2  [-0.0028723259, 0.0007146763, 0.0027650606, -0...  \n",
       "3  [-0.0053947526, 0.0010639088, -0.0172659121, -...  \n",
       "4  [-0.0102074854, 0.0018237374, -0.0229328163000...  "
      ]
     },
     "execution_count": 30,
     "metadata": {},
     "output_type": "execute_result"
    }
   ],
   "source": [
    "pinecone_df = pd.read_json(\"./pdf-data.json\", orient=\"records\")\n",
    "pinecone_df.head()"
   ]
  },
  {
   "cell_type": "code",
   "execution_count": 31,
   "metadata": {},
   "outputs": [
    {
     "data": {
      "text/html": [
       "<div>\n",
       "<style scoped>\n",
       "    .dataframe tbody tr th:only-of-type {\n",
       "        vertical-align: middle;\n",
       "    }\n",
       "\n",
       "    .dataframe tbody tr th {\n",
       "        vertical-align: top;\n",
       "    }\n",
       "\n",
       "    .dataframe thead th {\n",
       "        text-align: right;\n",
       "    }\n",
       "</style>\n",
       "<table border=\"1\" class=\"dataframe\">\n",
       "  <thead>\n",
       "    <tr style=\"text-align: right;\">\n",
       "      <th></th>\n",
       "      <th>title</th>\n",
       "      <th>text</th>\n",
       "      <th>n_tokens</th>\n",
       "      <th>vector</th>\n",
       "      <th>id</th>\n",
       "    </tr>\n",
       "  </thead>\n",
       "  <tbody>\n",
       "    <tr>\n",
       "      <th>0</th>\n",
       "      <td>Combined Officer PME Handbook</td>\n",
       "      <td>eSchool of Graduate PME Officer Professional M...</td>\n",
       "      <td>500</td>\n",
       "      <td>[-0.0097800773, 0.0036683725, -0.0137623027000...</td>\n",
       "      <td>air_u_test_0</td>\n",
       "    </tr>\n",
       "    <tr>\n",
       "      <th>1</th>\n",
       "      <td>Combined Officer PME Handbook</td>\n",
       "      <td>.................................................</td>\n",
       "      <td>500</td>\n",
       "      <td>[0.009529138900000001, -0.0008782578000000001,...</td>\n",
       "      <td>air_u_test_1</td>\n",
       "    </tr>\n",
       "    <tr>\n",
       "      <th>2</th>\n",
       "      <td>Combined Officer PME Handbook</td>\n",
       "      <td>.................................................</td>\n",
       "      <td>496</td>\n",
       "      <td>[-0.0028723259, 0.0007146763, 0.0027650606, -0...</td>\n",
       "      <td>air_u_test_2</td>\n",
       "    </tr>\n",
       "    <tr>\n",
       "      <th>3</th>\n",
       "      <td>Combined Officer PME Handbook</td>\n",
       "      <td>14 Table 8. eSchool Technical (Hardware and S...</td>\n",
       "      <td>485</td>\n",
       "      <td>[-0.0053947526, 0.0010639088, -0.0172659121, -...</td>\n",
       "      <td>air_u_test_3</td>\n",
       "    </tr>\n",
       "    <tr>\n",
       "      <th>4</th>\n",
       "      <td>Combined Officer PME Handbook</td>\n",
       "      <td>mil/eSchool/  This Handbook provides details o...</td>\n",
       "      <td>490</td>\n",
       "      <td>[-0.0102074854, 0.0018237374, -0.0229328163000...</td>\n",
       "      <td>air_u_test_4</td>\n",
       "    </tr>\n",
       "  </tbody>\n",
       "</table>\n",
       "</div>"
      ],
      "text/plain": [
       "                           title  \\\n",
       "0  Combined Officer PME Handbook   \n",
       "1  Combined Officer PME Handbook   \n",
       "2  Combined Officer PME Handbook   \n",
       "3  Combined Officer PME Handbook   \n",
       "4  Combined Officer PME Handbook   \n",
       "\n",
       "                                                text  n_tokens  \\\n",
       "0  eSchool of Graduate PME Officer Professional M...       500   \n",
       "1  .................................................       500   \n",
       "2  .................................................       496   \n",
       "3   14 Table 8. eSchool Technical (Hardware and S...       485   \n",
       "4  mil/eSchool/  This Handbook provides details o...       490   \n",
       "\n",
       "                                              vector            id  \n",
       "0  [-0.0097800773, 0.0036683725, -0.0137623027000...  air_u_test_0  \n",
       "1  [0.009529138900000001, -0.0008782578000000001,...  air_u_test_1  \n",
       "2  [-0.0028723259, 0.0007146763, 0.0027650606, -0...  air_u_test_2  \n",
       "3  [-0.0053947526, 0.0010639088, -0.0172659121, -...  air_u_test_3  \n",
       "4  [-0.0102074854, 0.0018237374, -0.0229328163000...  air_u_test_4  "
      ]
     },
     "execution_count": 31,
     "metadata": {},
     "output_type": "execute_result"
    }
   ],
   "source": [
    "# generate ids for each row\n",
    "# id will be air_u_test_1, air_u_test_2, etc.\n",
    "pinecone_df['id'] = \"air_u_test_\" + (pinecone_df.index).astype(str)\n",
    "pinecone_df.head()"
   ]
  },
  {
   "cell_type": "code",
   "execution_count": 32,
   "metadata": {},
   "outputs": [
    {
     "ename": "AttributeError",
     "evalue": "'Pandas' object has no attribute 'embedding'",
     "output_type": "error",
     "traceback": [
      "\u001b[1;31m---------------------------------------------------------------------------\u001b[0m",
      "\u001b[1;31mAttributeError\u001b[0m                            Traceback (most recent call last)",
      "\u001b[1;32mc:\\Users\\bcjenki3\\Documents\\Git\\embedding-quickstart\\embedding-demo.ipynb Cell 20\u001b[0m line \u001b[0;36m1\n\u001b[0;32m      <a href='vscode-notebook-cell:/c%3A/Users/bcjenki3/Documents/Git/embedding-quickstart/embedding-demo.ipynb#X25sZmlsZQ%3D%3D?line=7'>8</a>\u001b[0m vector \u001b[39m=\u001b[39m {}\n\u001b[0;32m      <a href='vscode-notebook-cell:/c%3A/Users/bcjenki3/Documents/Git/embedding-quickstart/embedding-demo.ipynb#X25sZmlsZQ%3D%3D?line=8'>9</a>\u001b[0m vector[\u001b[39m\"\u001b[39m\u001b[39mid\u001b[39m\u001b[39m\"\u001b[39m] \u001b[39m=\u001b[39m item\u001b[39m.\u001b[39mid\n\u001b[1;32m---> <a href='vscode-notebook-cell:/c%3A/Users/bcjenki3/Documents/Git/embedding-quickstart/embedding-demo.ipynb#X25sZmlsZQ%3D%3D?line=9'>10</a>\u001b[0m vector[\u001b[39m\"\u001b[39m\u001b[39mvalues\u001b[39m\u001b[39m\"\u001b[39m] \u001b[39m=\u001b[39m item\u001b[39m.\u001b[39;49membedding\u001b[39m.\u001b[39mtolist()\n\u001b[0;32m     <a href='vscode-notebook-cell:/c%3A/Users/bcjenki3/Documents/Git/embedding-quickstart/embedding-demo.ipynb#X25sZmlsZQ%3D%3D?line=10'>11</a>\u001b[0m vector[\u001b[39m\"\u001b[39m\u001b[39mmetadata\u001b[39m\u001b[39m\"\u001b[39m] \u001b[39m=\u001b[39m {\n\u001b[0;32m     <a href='vscode-notebook-cell:/c%3A/Users/bcjenki3/Documents/Git/embedding-quickstart/embedding-demo.ipynb#X25sZmlsZQ%3D%3D?line=11'>12</a>\u001b[0m     \u001b[39m\"\u001b[39m\u001b[39mtext\u001b[39m\u001b[39m\"\u001b[39m: item\u001b[39m.\u001b[39mtext,\n\u001b[0;32m     <a href='vscode-notebook-cell:/c%3A/Users/bcjenki3/Documents/Git/embedding-quickstart/embedding-demo.ipynb#X25sZmlsZQ%3D%3D?line=12'>13</a>\u001b[0m     \u001b[39m\"\u001b[39m\u001b[39mtitle\u001b[39m\u001b[39m\"\u001b[39m: item\u001b[39m.\u001b[39mtitle,\n\u001b[0;32m     <a href='vscode-notebook-cell:/c%3A/Users/bcjenki3/Documents/Git/embedding-quickstart/embedding-demo.ipynb#X25sZmlsZQ%3D%3D?line=13'>14</a>\u001b[0m }\n\u001b[0;32m     <a href='vscode-notebook-cell:/c%3A/Users/bcjenki3/Documents/Git/embedding-quickstart/embedding-demo.ipynb#X25sZmlsZQ%3D%3D?line=14'>15</a>\u001b[0m vectors\u001b[39m.\u001b[39mappend(vector)\n",
      "\u001b[1;31mAttributeError\u001b[0m: 'Pandas' object has no attribute 'embedding'"
     ]
    }
   ],
   "source": [
    "# upsert\n",
    "batch_size = 100\n",
    "namespace = \"air_u_test\"\n",
    "\n",
    "for i in range(0, len(pinecone_df), batch_size):\n",
    "    vectors = []\n",
    "    for item in pinecone_df[i:i+batch_size].itertuples():\n",
    "        vector = {}\n",
    "        vector[\"id\"] = item.id\n",
    "        vector[\"values\"] = item.vector.tolist()\n",
    "        vector[\"metadata\"] = {\n",
    "            \"text\": item.text,\n",
    "            \"title\": item.title,\n",
    "        }\n",
    "        vectors.append(vector)\n",
    "    upsert_response = index.upsert(vectors=vectors, namespace=namespace)\n",
    "    print(upsert_response)"
   ]
  }
 ],
 "metadata": {
  "kernelspec": {
   "display_name": ".venv",
   "language": "python",
   "name": "python3"
  },
  "language_info": {
   "codemirror_mode": {
    "name": "ipython",
    "version": 3
   },
   "file_extension": ".py",
   "mimetype": "text/x-python",
   "name": "python",
   "nbconvert_exporter": "python",
   "pygments_lexer": "ipython3",
   "version": "3.10.11"
  },
  "orig_nbformat": 4
 },
 "nbformat": 4,
 "nbformat_minor": 2
}
